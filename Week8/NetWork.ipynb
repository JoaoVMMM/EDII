{
 "cells": [
  {
   "cell_type": "markdown",
   "metadata": {
    "id": "YGoGFx3lWBbJ"
   },
   "source": [
    "Student Identification\n",
    "\n",
    "- Full Name 01: **João Victor Moura Monteiro Madruga** "
   ]
  },
  {
   "cell_type": "markdown",
   "metadata": {
    "id": "0vUTEVI2SSAQ"
   },
   "source": [
    "# Exercise Q&A (1,00 point for grade in Unit 02)"
   ]
  },
  {
   "cell_type": "markdown",
   "metadata": {
    "id": "tG_xFopi_wpj"
   },
   "source": [
    "## Question 01"
   ]
  },
  {
   "cell_type": "markdown",
   "metadata": {
    "id": "rtVDKKTDGCND"
   },
   "source": [
    "Consider a network with *N* nodes. Given a single link, what is the maximum number of nodes that link can connect? Given a single node, what is the maximum number of links that can connect to that node?"
   ]
  },
  {
   "cell_type": "markdown",
   "metadata": {
    "id": "3n2EjOMmHMuI"
   },
   "source": [
    "Answer:\n",
    "\n",
    "    Network with 'N' nodes and given a 'single link': the maximum number of nodes that link can connect is 2\n",
    "    Network with a 'single node' and given the maximum number of links: the maximum number of nodes that link can connect is 'N'"
   ]
  },
  {
   "cell_type": "markdown",
   "metadata": {
    "id": "uQPRLZUXHRFc"
   },
   "source": [
    "## Question 02"
   ]
  },
  {
   "cell_type": "markdown",
   "metadata": {
    "id": "FnKLHki-Hay_"
   },
   "source": [
    "\n",
    "<center><img width=\"600\" src=\"https://drive.google.com/uc?export=view&id=1Y42-c3Pq1XoszEEvYsZFdr3GccAqp7l_\"></center>\n",
    "<center><b>Figure 1</b>: Map of New York in 1880. From Report on the Social Statistics of Cities, Compiled by George E. Waring, Jr., U.S. Census Office, 1886. Image courtesy of University of Texas Libraries. <br></center>\n",
    "\n",
    "\n",
    "Consider the road map in Figure 1. The grid-like structure of this network means that most nodes have the same degree. What is the most common degree for nodes in this network?\n",
    "\n"
   ]
  },
  {
   "cell_type": "markdown",
   "metadata": {
    "id": "DtBZnm2OHgaI"
   },
   "source": [
    "Answer:\n",
    "\n",
    "    Considering that the degree of each node is the links (street) that it makes with the others nodes (neighbors), and most node is a intersection of 4 links (North, East, South, West).\n",
    "    Therefore, we can assume that, in this Network, the most common degree for nodes would be 4"
   ]
  },
  {
   "cell_type": "markdown",
   "metadata": {
    "id": "pyOgImYmJsh3"
   },
   "source": [
    "## Question 03"
   ]
  },
  {
   "cell_type": "markdown",
   "metadata": {
    "id": "17qGjrMHJvZ7"
   },
   "source": [
    "Consider the road map in Figure 1. Manhattan has a lot of one-way streets. This implies that a good network model of traffic flow would probably have directed links. Consider a subgraph of this network with grid-like connectivity and all one-way streets (i.e. each node is a four-way intersection of two one-way streets). What is the most common in-degree of nodes in this subgraph? What is the most common out-degree?"
   ]
  },
  {
   "cell_type": "markdown",
   "metadata": {
    "id": "71j_C-55KIVC"
   },
   "source": [
    "Answer:\n",
    "\n",
    "    Considering most nodes have 4 links, and 2 are in-links and 2 are out-links.\n",
    "    Therefore, we can assume the most common in-degrees: 2 ; and most common out-degrees: 2"
   ]
  },
  {
   "cell_type": "markdown",
   "metadata": {
    "id": "6ajWuuasKLQ_"
   },
   "source": [
    "## Question 04"
   ]
  },
  {
   "cell_type": "markdown",
   "metadata": {
    "id": "ylQ51DMWKZxC"
   },
   "source": [
    "What network quantity can we use to represent the volume of traffic between each pair of adjacent intersections in the Manhattan road map (Figure 1)?"
   ]
  },
  {
   "cell_type": "markdown",
   "metadata": {
    "id": "oE9sJ1mWKcF0"
   },
   "source": [
    "Answer:\n",
    "\n",
    "    We can use a 'Weighted graph' network.\n",
    "    That way, we can show visually the importance of each link: either by putting values (numbers) on the links or by highlighting the links (making the links girthier)"
   ]
  },
  {
   "cell_type": "markdown",
   "metadata": {
    "id": "udxnPkItKfX3"
   },
   "source": [
    "## Question 5"
   ]
  },
  {
   "cell_type": "markdown",
   "metadata": {
    "id": "fj7f0HL7KtOy"
   },
   "source": [
    "Consider a directed network of N nodes. Now consider the total in-degree (i.e. the sum of the in-degree over all nodes in the network). Compare this to the analogous total out-degree. Which of the following must hold true for any such network?\n",
    "\n",
    "1. Total in-degree must be less than total out-degree\n",
    "2. Total in-degree must be greater than total out-degree\n",
    "3. Total in-degree must be equal to total out-degree\n",
    "4. None of these hold true in all instances"
   ]
  },
  {
   "cell_type": "markdown",
   "metadata": {
    "id": "4P5ThuVNK3Ug"
   },
   "source": [
    "Answer:\n",
    "\n",
    "    3. Total in-degree must be equal to total out-degree\n",
    "    \n",
    "    Exemplo: Let's consider the total number of edges in the network. \n",
    "             Each edge has exactly one source node (with out-degree 1 for that edge) and one\n",
    "             target node (with in-degree 1 for that edge). \n",
    "             Therefore, the total number of edges is equal to the sum of the out-degrees over\n",
    "             all nodes, as well as the sum of the in-degrees over all nodes."
   ]
  },
  {
   "cell_type": "markdown",
   "metadata": {
    "id": "QPVskC76LUtF"
   },
   "source": [
    "## Question 6"
   ]
  },
  {
   "cell_type": "markdown",
   "metadata": {
    "id": "A1TqNt5nLZkU"
   },
   "source": [
    "Consider a Twitter retweet network, where users are nodes and we want to show how many times a given user has retweeted another user. What link type best captures this relation?\n",
    "1.   Undirected, unweighted\n",
    "2.   Undirected, weighted\n",
    "3.   Directed, unweighted\n",
    "4.   Directed, weighted"
   ]
  },
  {
   "cell_type": "markdown",
   "metadata": {
    "id": "yJNqiQJ5LkFy"
   },
   "source": [
    "Answer:\n",
    "\n",
    "    4. Directed, weighted\n",
    "    \n",
    "    Directed link: because the relationship between the users is asymmetric, i.e. one user \n",
    "    is retweeting another user, but the opposite is not necessarily true.\n",
    "    \n",
    "    Weighted link: because it would allow us to capture the frequency of the retweeting \n",
    "    relationship between two users, i.e. each link would be assigned a 'weight' that corresponds \n",
    "    to the number of times one user has retweeted the other user, allowing us to differentiate \n",
    "    between users who have a stronger or weaker retweeting relationship."
   ]
  },
  {
   "cell_type": "markdown",
   "metadata": {
    "id": "ZT5mLS7-Lsb2"
   },
   "source": [
    "## Question 7"
   ]
  },
  {
   "cell_type": "markdown",
   "metadata": {
    "id": "ofRy-TURMLix"
   },
   "source": [
    "Consider a hashtag co-occurrence graph from Twitter. In this network, hashtags are the nodes, and a link between two hashtags indicates how often those two hashtags appear in tweets together. What link type would best capture this relation?\n",
    "1.   Undirected, unweighted\n",
    "2.   Undirected, weighted\n",
    "3.   Directed, unweighted\n",
    "4.   Directed, weighted"
   ]
  },
  {
   "cell_type": "markdown",
   "metadata": {
    "id": "8H7AiKavMQsT"
   },
   "source": [
    "Answer:\n",
    "\n",
    "    2. Undirected, weighted\n",
    "    \n",
    "    Undirected link: because the relationship between the two hashtags is symmetric, i.e. if \n",
    "    hashtag A co-occurs frequently with hashtag B, then hashtag B also co-occurs frequently \n",
    "    with hashtag A.\n",
    "\n",
    "    Weighted link: because it would allow us to capture the strength of the co-occurrence \n",
    "    relationship between two hashtags, i.e. each link could be assigned a 'weight' that \n",
    "    corresponds to the number of times the two hashtags appear together in tweets, allowing \n",
    "    us to differentiate between hashtags that have a stronger or weaker co-occurrence \n",
    "    relationship."
   ]
  },
  {
   "cell_type": "markdown",
   "metadata": {
    "id": "4-bIhQwpMVs3"
   },
   "source": [
    "## Question 8"
   ]
  },
  {
   "cell_type": "markdown",
   "metadata": {
    "id": "9SVLykJ6M5lM"
   },
   "source": [
    "Consider a network created from characters in a story or play. The nodes are people, and a link exists between two nodes if those characters ever engage in dialogue. Which type of edge could represent this relation? Justify your answer.\n",
    "1.   Undirected, unweighted\n",
    "2.   Undirected, weighted\n",
    "3.   Directed, unweighted\n",
    "4.   Directed, weighted"
   ]
  },
  {
   "cell_type": "markdown",
   "metadata": {
    "id": "FnvkcRD-M8eq"
   },
   "source": [
    "Answer:\n",
    "\n",
    "    2. Undirected, weighted\n",
    "    \n",
    "    Undirected link: because a dialogue between characters is symmetric, i.e. character A \n",
    "    speaks to character B and, since dialogue are bidirectional, character B also speaks to \n",
    "    character A.\n",
    "    \n",
    "    Weighted link: because it would allow us to capture the frequency of the dialogue between \n",
    "    two characters, i.e. the 'weight' of the link could correspond to the number of times \n",
    "    character A and character B speaks with each other, that would provide us information \n",
    "    about the frequency of dialogues between the characters."
   ]
  },
  {
   "cell_type": "markdown",
   "metadata": {
    "id": "S4Ga_yyYNBBo"
   },
   "source": [
    "## Question 9"
   ]
  },
  {
   "cell_type": "markdown",
   "metadata": {
    "id": "1_z4ApdLNa6a"
   },
   "source": [
    "Suppose we want to make a more complex version of a dialog network that captures how much each character speaks and to whom. What type of link would best represent this relation?\n",
    "1.   Undirected, unweighted\n",
    "2.   Undirected, weighted\n",
    "3.   Directed, unweighted\n",
    "4.   Directed, weighted"
   ]
  },
  {
   "cell_type": "markdown",
   "metadata": {
    "id": "urjFC0KTNefy"
   },
   "source": [
    "Answer:\n",
    "\n",
    "    4. Directed, weighted\n",
    "    \n",
    "    Directed link: because the dialogue between the characters is not necessarily symmetric, i.e.\n",
    "    one character might speak more to another character than vice versa, that makes the direction \n",
    "    of the link matter.\n",
    "\n",
    "    Weighted link: because it would allow us to capture the frequency of the dialogue between \n",
    "    two characters, i.e. the weight of the link could correspond to the number of times one \n",
    "    character speaks to another character."
   ]
  },
  {
   "cell_type": "markdown",
   "metadata": {
    "id": "hct-5tQwNg5_"
   },
   "source": [
    "## Question 10"
   ]
  },
  {
   "cell_type": "markdown",
   "metadata": {
    "id": "soJKH_N1Nnj3"
   },
   "source": [
    "Imagine that your social network has a subnetwork where you and 24 of your friends (25 people total) are all friends with each other. What is such a subnetwork called? And how many links are contained in the subnetwork?"
   ]
  },
  {
   "cell_type": "markdown",
   "metadata": {
    "id": "e8GcJrj1Npay"
   },
   "source": [
    "Answer:\n",
    "\n",
    "    A complete graph\n",
    "    \n",
    "    L = (N * (N-1)) / 2  ;  L: Amount of links  ;  N: Amount of nodes\n",
    "    L = (25 * (25-1)) / 2\n",
    "    L = 300\n",
    "    \n",
    "    Therefore, there are 300 links contained in this subnetwork"
   ]
  },
  {
   "cell_type": "markdown",
   "metadata": {
    "id": "--K9oj5YNrjz"
   },
   "source": [
    "## Question 11"
   ]
  },
  {
   "cell_type": "markdown",
   "metadata": {
    "id": "DRFut7ovNz41"
   },
   "source": [
    "Consider an undirected network with N nodes. What is the maximum number of links this network can have?"
   ]
  },
  {
   "cell_type": "markdown",
   "metadata": {
    "id": "60iToMENN61m"
   },
   "source": [
    "Answer:\n",
    "\n",
    "    L: Amount of links  ;  N: Amount of nodes\n",
    "    L = (N * (N-1)) / 2"
   ]
  },
  {
   "cell_type": "markdown",
   "metadata": {
    "id": "cER1jb6SN8NF"
   },
   "source": [
    "## Question 12"
   ]
  },
  {
   "cell_type": "markdown",
   "metadata": {
    "id": "PyyEb1GeOBK9"
   },
   "source": [
    "Consider a bipartite network of N nodes, $N_1$ nodes of type 1 and $N_2$ nodes of type 2 (so that $N_1 + N_2 = N$). What is the maximum number of links in this network?"
   ]
  },
  {
   "cell_type": "markdown",
   "metadata": {
    "id": "6AoiES-AOJdB"
   },
   "source": [
    "Answer:\n",
    "\n",
    "    L = N1 * N2\n",
    "    \n",
    "    In a bipartite network, links can only exist between nodes of different types. \n",
    "    Therefore, the maximum number of links occurs when all nodes of type 1 are connected to \n",
    "    all nodes of type 2."
   ]
  },
  {
   "cell_type": "markdown",
   "metadata": {
    "id": "RN4CfOSqOK_1"
   },
   "source": [
    "## Question 13"
   ]
  },
  {
   "cell_type": "markdown",
   "metadata": {
    "id": "9SGJKgblOO9g"
   },
   "source": [
    "Given a complete network A with N nodes, and a bipartite network B also with N nodes, which of the following holds true for any $N > 2$:\n",
    "1.   Network A has more links than network B\n",
    "2.   Network A has the same number of links as network B\n",
    "3.   Network A has fewer links than network B\n",
    "4.   None of these hold true for all such $N > 2$"
   ]
  },
  {
   "cell_type": "markdown",
   "metadata": {
    "id": "cwF6C1uLOiWr"
   },
   "source": [
    "Answer:\n",
    "\n",
    "    1. Network A has more links than network B\n",
    "    \n",
    "    A complete network of N nodes is a network in which every node is directly connected to \n",
    "    every other node ( N*(N-1)/2 links ).\n",
    "\n",
    "    A bipartite network of N nodes with N1 nodes of type 1 and N2 nodes of type 2 has a \n",
    "    maximum of ( N1*N2 links ). \n",
    "    \n",
    "    Which is less than [ N(N-1)/2 ] when N1 and N2 are both less than N/2."
   ]
  },
  {
   "cell_type": "markdown",
   "metadata": {
    "id": "SKKotfslOluz"
   },
   "source": [
    "## Question 14\n",
    "\n"
   ]
  },
  {
   "cell_type": "markdown",
   "metadata": {
    "id": "GMh5WvjiPwzv"
   },
   "source": [
    "Consider this adjacency matrix:\n",
    "\n",
    "<center><img width=\"300\" src=\"https://drive.google.com/uc?export=view&id=1e4ANqX_kJCPhnVizvbK-ToBJgrZJpVde\"></center>\n",
    "\n",
    "An entry in the ith row and jth column indicates the weight of the link from node i to node j. For instance, the entry in the second row and third column is 2, meaning the weight of the link from node B to node C is 2. What kind of network does this matrix represent?\n",
    "1.   Undirected, unweighted\n",
    "2.   Undirected, weighted\n",
    "3.   Directed, unweighted\n",
    "4.   Directed, weighted\n"
   ]
  },
  {
   "cell_type": "markdown",
   "metadata": {
    "id": "UD5mRmSpRelN"
   },
   "source": [
    "Answer:\n",
    "\n",
    "    4. Directed, weighted"
   ]
  },
  {
   "cell_type": "markdown",
   "metadata": {
    "id": "N92A04bZP6Uu"
   },
   "source": [
    "## Question 15"
   ]
  },
  {
   "cell_type": "markdown",
   "metadata": {
    "id": "MqTaMtfDRKY1"
   },
   "source": [
    "We have seen that Facebook’s network is incredibly sparse. Assume it has approximately 1 billion users, each with 1000 friends on average.\n",
    "\n",
    "1. Suppose Facebook releases its annual report and it shows that while the number of users in the network has stayed the same, the average number of friends per user has increased. Would this imply that the network density increased, decreased, or stayed the same?\n",
    "2. Suppose instead that both the number of users and the average number of friends per user doubled. Would this imply the network density increased, decreased, or stayed the same?\n",
    "\n"
   ]
  },
  {
   "cell_type": "markdown",
   "metadata": {
    "id": "tc14eV8jRXsu"
   },
   "source": [
    "Answer:\n",
    "\n",
    "    The maximum number of edges (links) possible is: N*(N-1)/2\n",
    "    \n",
    "    Facebook:   qui: quintillion , qua: quadrillion , t: trillion , b: billion , k: thousand\n",
    "    E = 1b * 1k / 2 = 500b  \n",
    "    E_max = 1b * (1b - 1) / 2 ~= 500qua\n",
    "    \n",
    "    1. Assuming the number of users in the network stays the same but the average number \n",
    "       of friends per user increases, the total number of edges will increase as well.\n",
    "       \n",
    "       E = 1b * N / 2 = M   ;   N > 1k , M > 500b\n",
    "       \n",
    "       And the maximum number of edges possible between all pairs of nodes will \n",
    "       remain the same, as follows:\n",
    "       \n",
    "       E_max = 1b * (1b - 1) / 2 ~= 500qua\n",
    "       \n",
    "       Therefore, the network density will also increase.\n",
    "       \n",
    "    2. Assuming the number of users and the average number of friends per user double, \n",
    "       the total number of edges will increase fourfold, as follows:\n",
    "       \n",
    "       E = 2b * 2k / 2 = 2t\n",
    "       \n",
    "       However, the maximum number of edges possible between all pairs of nodes will \n",
    "       increase eightfold, as follows:\n",
    "       \n",
    "       E_max = 2b * (2b - 1) / 2 ~= 1,5qui\n",
    "\n",
    "       Therefore, even though the total number of edges has increased, the network \n",
    "       density will decrease."
   ]
  },
  {
   "cell_type": "markdown",
   "metadata": {
    "id": "hzp00QnjRgxU"
   },
   "source": [
    "## Question 16"
   ]
  },
  {
   "cell_type": "markdown",
   "metadata": {
    "id": "9O0ElA4FR1sR"
   },
   "source": [
    "Netflix keeps data on customer preferences using a big bipartite network connecting users to titles. Suppose that from 2021 to 2022 Netflix’s library has remained the same size, while the number of users has increased. Further suppose that the average user’s degree in this network has remained constant. Has the density of this network increased, decreased, or stayed the same?"
   ]
  },
  {
   "cell_type": "markdown",
   "metadata": {
    "id": "UdewP6VvR6VD"
   },
   "source": [
    "Answer:\n",
    "\n",
    "    The density of this network has decreased\n",
    "    \n",
    "    This is because the number of edges (links) in the network remains the same as the size of \n",
    "    the library has not changed. \n",
    "    \n",
    "    However, the maximum possible number of edges increases with the number of users. \n",
    "    \n",
    "    Since the average user's degree has remained constant, this means that the same number \n",
    "    of edges are spread across a larger number of possible edges, resulting in a lower density."
   ]
  },
  {
   "cell_type": "markdown",
   "metadata": {
    "id": "3xO32cYISYkQ"
   },
   "source": [
    "# Exercise - Hands On (1,00 point for grade in Unit 02)"
   ]
  },
  {
   "cell_type": "markdown",
   "metadata": {
    "id": "-I9SonWrTIH-"
   },
   "source": [
    "Implementing all hands on using [NetworkX](https://networkx.org/)."
   ]
  },
  {
   "cell_type": "markdown",
   "metadata": {
    "id": "7if-CnFwSfPc"
   },
   "source": [
    "## Hands On 01"
   ]
  },
  {
   "cell_type": "markdown",
   "metadata": {
    "id": "SuO9vOYd9gFV"
   },
   "source": [
    "\n",
    "Often in the context of trees, a node with degree 1 is called a *leaf*. Write a function named `get_leaves` that takes a graph as an argument, loops through the nodes, and returns a list of nodes with degree 1."
   ]
  },
  {
   "cell_type": "code",
   "execution_count": 1,
   "metadata": {},
   "outputs": [],
   "source": [
    "import networkx as nx"
   ]
  },
  {
   "cell_type": "code",
   "execution_count": 2,
   "metadata": {
    "id": "FlGKqf0MmgnB",
    "scrolled": true
   },
   "outputs": [],
   "source": [
    "def get_leaves(G):\n",
    "    return [node for node in G.nodes if G.degree(node) == 1]"
   ]
  },
  {
   "cell_type": "code",
   "execution_count": 3,
   "metadata": {
    "id": "mVBLr5_xmgnB",
    "scrolled": true
   },
   "outputs": [],
   "source": [
    "# this block of code is only for networkx adapt it for graph-tool\n",
    "G = nx.Graph()\n",
    "G.add_edges_from([\n",
    "        ('a', 'b'),\n",
    "        ('a', 'd'),\n",
    "        ('c', 'd'),\n",
    "    ])\n",
    "assert set(get_leaves(G)) == {'c', 'b'}"
   ]
  },
  {
   "cell_type": "markdown",
   "metadata": {
    "id": "TcYdyCnEmgnD"
   },
   "source": [
    "## Hands On 02"
   ]
  },
  {
   "cell_type": "markdown",
   "metadata": {
    "id": "MsE6DTbI9m4t"
   },
   "source": [
    "\n",
    "Write a function max_degree that takes a graph as its argument, and returns a 2-tuple with the name and degree of the node with highest degree."
   ]
  },
  {
   "cell_type": "code",
   "execution_count": 4,
   "metadata": {
    "id": "DLufczZQmgnD",
    "scrolled": false
   },
   "outputs": [],
   "source": [
    "def max_degree(G):\n",
    "    higher = -1\n",
    "\n",
    "    for key, value in G.degree(G.nodes):\n",
    "        if value > higher:\n",
    "            higher = value\n",
    "            node = key\n",
    "\n",
    "    return (node, higher)"
   ]
  },
  {
   "cell_type": "code",
   "execution_count": 5,
   "metadata": {
    "id": "RuDfvFb3PmWI"
   },
   "outputs": [
    {
     "name": "stderr",
     "output_type": "stream",
     "text": [
      "Downloading...\n",
      "From: https://drive.google.com/uc?id=14AMuGDPHac7FOOr7Stw2Jh-l-IWb7n8D\n",
      "To: C:\\Users\\Joao Madruga\\UFRN\\EDII\\Week8\\friends.adjlist\n",
      "100%|██████████| 109/109 [00:00<?, ?B/s] \n"
     ]
    },
    {
     "data": {
      "text/plain": [
       "'friends.adjlist'"
      ]
     },
     "execution_count": 5,
     "metadata": {},
     "output_type": "execute_result"
    }
   ],
   "source": [
    "import gdown\n",
    "\n",
    "url = 'https://drive.google.com/uc?id=14AMuGDPHac7FOOr7Stw2Jh-l-IWb7n8D'\n",
    "output = 'friends.adjlist'\n",
    "gdown.download(url, output, quiet=False)"
   ]
  },
  {
   "cell_type": "code",
   "execution_count": 6,
   "metadata": {
    "id": "aEQapPYNmgnD",
    "scrolled": false
   },
   "outputs": [],
   "source": [
    "# this block of code is only for networkx adapt it for graph-tool\n",
    "SG = nx.read_adjlist('friends.adjlist')\n",
    "assert max_degree(SG) == ('Claire', 4)"
   ]
  },
  {
   "cell_type": "markdown",
   "metadata": {
    "id": "MCDbNldnmgnD"
   },
   "source": [
    "## Hands on 03"
   ]
  },
  {
   "cell_type": "markdown",
   "metadata": {
    "id": "RWup3uDm9n5I"
   },
   "source": [
    "\n",
    "Write a function `mutual_friends` that takes a graph and two nodes as arguments, and returns a list (or set) of nodes that are linked to both given nodes. For example, in the graph `SG` drawn above,\n",
    "\n",
    "    mutual_friends(SG, 'Alice', 'Claire') == ['Frank']\n",
    "\n",
    "an empty list or set should be returned in the case where two nodes have no mutual friends, e.g. George and Bob in `SG` drawn above."
   ]
  },
  {
   "cell_type": "code",
   "execution_count": 7,
   "metadata": {
    "id": "hpnX9YeKmgnD",
    "scrolled": false
   },
   "outputs": [],
   "source": [
    "def mutual_friends(G, node_1, node_2):\n",
    "    return list(set(G.neighbors(node_1)).intersection(set(G.neighbors(node_2))))"
   ]
  },
  {
   "cell_type": "code",
   "execution_count": 8,
   "metadata": {
    "id": "B2n0vCRYmgnE",
    "scrolled": true
   },
   "outputs": [],
   "source": [
    "# this block of code is only for networkx adapt it for graph-tool\n",
    "SG = nx.read_adjlist('friends.adjlist')\n",
    "assert mutual_friends(SG, 'Alice', 'Claire') == ['Frank']\n",
    "assert mutual_friends(SG, 'George', 'Bob') == []\n",
    "assert sorted(mutual_friends(SG, 'Claire', 'George')) == ['Dennis', 'Frank']"
   ]
  },
  {
   "cell_type": "code",
   "execution_count": null,
   "metadata": {},
   "outputs": [],
   "source": []
  }
 ],
 "metadata": {
  "colab": {
   "collapsed_sections": [
    "QPVskC76LUtF",
    "ZT5mLS7-Lsb2",
    "4-bIhQwpMVs3",
    "S4Ga_yyYNBBo",
    "hct-5tQwNg5_",
    "--K9oj5YNrjz",
    "cER1jb6SN8NF",
    "RN4CfOSqOK_1",
    "SKKotfslOluz",
    "N92A04bZP6Uu",
    "hzp00QnjRgxU",
    "7if-CnFwSfPc",
    "TcYdyCnEmgnD",
    "MCDbNldnmgnD"
   ],
   "provenance": []
  },
  "kernelspec": {
   "display_name": "Python 3",
   "language": "python",
   "name": "python3"
  },
  "language_info": {
   "codemirror_mode": {
    "name": "ipython",
    "version": 3
   },
   "file_extension": ".py",
   "mimetype": "text/x-python",
   "name": "python",
   "nbconvert_exporter": "python",
   "pygments_lexer": "ipython3",
   "version": "3.8.5"
  }
 },
 "nbformat": 4,
 "nbformat_minor": 1
}
