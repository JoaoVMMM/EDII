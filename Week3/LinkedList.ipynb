{
 "cells": [
  {
   "cell_type": "code",
   "execution_count": 4,
   "metadata": {},
   "outputs": [
    {
     "name": "stdout",
     "output_type": "stream",
     "text": [
      "Requirement already satisfied: pytest in c:\\users\\joao madruga\\anaconda3\\lib\\site-packages (0.0.0)\n",
      "Requirement already satisfied: pytest-sugar in c:\\users\\joao madruga\\anaconda3\\lib\\site-packages (0.9.7)\n",
      "Requirement already satisfied: attrs>=17.4.0 in c:\\users\\joao madruga\\anaconda3\\lib\\site-packages (from pytest) (20.3.0)\n",
      "Requirement already satisfied: iniconfig in c:\\users\\joao madruga\\anaconda3\\lib\\site-packages (from pytest) (1.1.1)\n",
      "Requirement already satisfied: packaging in c:\\users\\joao madruga\\anaconda3\\lib\\site-packages (from pytest) (20.4)\n",
      "Requirement already satisfied: pluggy<1.0,>=0.12 in c:\\users\\joao madruga\\anaconda3\\lib\\site-packages (from pytest) (0.13.1)\n",
      "Requirement already satisfied: py>=1.8.2 in c:\\users\\joao madruga\\anaconda3\\lib\\site-packages (from pytest) (1.9.0)\n",
      "Requirement already satisfied: toml in c:\\users\\joao madruga\\anaconda3\\lib\\site-packages (from pytest) (0.10.1)\n",
      "Requirement already satisfied: atomicwrites>=1.0 in c:\\users\\joao madruga\\anaconda3\\lib\\site-packages (from pytest) (1.4.0)\n",
      "Requirement already satisfied: colorama in c:\\users\\joao madruga\\anaconda3\\lib\\site-packages (from pytest) (0.4.4)\n",
      "Requirement already satisfied: termcolor>=2.1.0 in c:\\users\\joao madruga\\anaconda3\\lib\\site-packages (from pytest-sugar) (2.2.0)\n",
      "Requirement already satisfied: six in c:\\users\\joao madruga\\anaconda3\\lib\\site-packages (from packaging->pytest) (1.15.0)\n",
      "Requirement already satisfied: pyparsing>=2.0.2 in c:\\users\\joao madruga\\anaconda3\\lib\\site-packages (from packaging->pytest) (2.4.7)\n"
     ]
    }
   ],
   "source": [
    "# install dependencies\n",
    "!pip install pytest pytest-sugar"
   ]
  },
  {
   "cell_type": "code",
   "execution_count": 10,
   "metadata": {},
   "outputs": [
    {
     "name": "stdout",
     "output_type": "stream",
     "text": [
      "Overwriting linkedList.py\n"
     ]
    }
   ],
   "source": [
    "%%file linkedList.py\n",
    "\n",
    "# To produce the file linkedlist.py, please remove the comment symbol '#' from the beginning of the line below.\n",
    "\n",
    "\n",
    "class Node:\n",
    "    \"\"\"A class representing a node in a doubly linked list.\"\"\"\n",
    "\n",
    "    def __init__(self, data):\n",
    "        \"\"\"Initialize a new node with the given data.\"\"\"\n",
    "        self.data = data\n",
    "        self.prev = None\n",
    "        self.next = None\n",
    "\n",
    "class LinkedList:\n",
    "    \"\"\"A class representing a doubly linked list.\"\"\"\n",
    "\n",
    "    def __init__(self):\n",
    "        \"\"\"Initialize an empty linked list.\"\"\"\n",
    "        self.head = None\n",
    "        self.tail = None\n",
    "        self.length = 0\n",
    "        \n",
    "    def append(self, data):\n",
    "        \"\"\"Add a new node with the given data to the end of the linked list.\"\"\"\n",
    "        new_node = Node(data)\n",
    "        if self.length == 0:\n",
    "            self.head = self.tail = new_node\n",
    "        else:\n",
    "            self.tail.next = new_node\n",
    "            new_node.prev = self.tail\n",
    "            self.tail = new_node\n",
    "        self.length += 1\n",
    "        \n",
    "    def __iter__(self):\n",
    "        \"\"\"Return an iterator for the linked list.\"\"\"\n",
    "        self._iter_node = self.head\n",
    "        return self \n",
    "    \n",
    "    def __next__(self):\n",
    "        \"\"\"Return the next value in the linked list.\"\"\"\n",
    "        if self._iter_node is None:\n",
    "            raise StopIteration\n",
    "        ret = self._iter_node.data\n",
    "        self._iter_node = self._iter_node.next\n",
    "        return ret\n",
    "    \n",
    "    def prepend(self, data):\n",
    "        \"\"\"Add a new node with the given data to the beginning of the linked list.\"\"\"\n",
    "        new_node = Node(data)\n",
    "        if self.length == 0:\n",
    "            self.head = self.tail = new_node\n",
    "        else:\n",
    "            self.head.prev = new_node\n",
    "            new_node.next = self.head\n",
    "            self.head = new_node\n",
    "        self.length += 1\n",
    "        \n",
    "    def __len__(self):\n",
    "        \"\"\"Return the length of the linked list.\"\"\"\n",
    "        return self.length\n",
    "    \n",
    "    def __str__(self):\n",
    "        \"\"\"Return a string representation of the linked list.\"\"\"\n",
    "        return str([value for value in self])\n",
    "\n",
    "    def __eq__(self, other):\n",
    "        \"\"\"Check if two linked lists are equal.\n",
    "\n",
    "        Traverse both linked lists and compare the data of each node. \n",
    "        If the data of all nodes in both linked lists match, return True. \n",
    "        Otherwise, return False.\n",
    "\n",
    "        Args:\n",
    "            other (LinkedList): The linked list to compare with self.\n",
    "\n",
    "        Returns:\n",
    "            bool: True if the linked lists are equal, False otherwise.\n",
    "        \"\"\"\n",
    "        # Check if the lengths of the linked lists are the same\n",
    "        if len(self) != len(other):\n",
    "            print(self,other)\n",
    "            return False\n",
    "        \n",
    "        # Iterate over both linked lists and compare the data of each node\n",
    "        for node1, node2 in zip(self, other):\n",
    "            if node1 != node2:\n",
    "                print(node1.data,node2.data)\n",
    "                return False\n",
    "        \n",
    "        # If we made it this far, the linked lists are equal\n",
    "        return True"
   ]
  },
  {
   "cell_type": "code",
   "execution_count": null,
   "metadata": {},
   "outputs": [],
   "source": []
  },
  {
   "cell_type": "code",
   "execution_count": null,
   "metadata": {},
   "outputs": [],
   "source": []
  }
 ],
 "metadata": {
  "kernelspec": {
   "display_name": "Python 3",
   "language": "python",
   "name": "python3"
  },
  "language_info": {
   "codemirror_mode": {
    "name": "ipython",
    "version": 3
   },
   "file_extension": ".py",
   "mimetype": "text/x-python",
   "name": "python",
   "nbconvert_exporter": "python",
   "pygments_lexer": "ipython3",
   "version": "3.8.5"
  }
 },
 "nbformat": 4,
 "nbformat_minor": 4
}
