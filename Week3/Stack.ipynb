{
 "cells": [
  {
   "cell_type": "code",
   "execution_count": 1,
   "metadata": {},
   "outputs": [
    {
     "name": "stdout",
     "output_type": "stream",
     "text": [
      "Requirement already satisfied: pytest in c:\\users\\joao madruga\\anaconda3\\lib\\site-packages (0.0.0)\n",
      "Requirement already satisfied: pytest-sugar in c:\\users\\joao madruga\\anaconda3\\lib\\site-packages (0.9.7)\n",
      "Requirement already satisfied: attrs>=17.4.0 in c:\\users\\joao madruga\\anaconda3\\lib\\site-packages (from pytest) (20.3.0)\n",
      "Requirement already satisfied: iniconfig in c:\\users\\joao madruga\\anaconda3\\lib\\site-packages (from pytest) (1.1.1)\n",
      "Requirement already satisfied: packaging in c:\\users\\joao madruga\\anaconda3\\lib\\site-packages (from pytest) (20.4)\n",
      "Requirement already satisfied: pluggy<1.0,>=0.12 in c:\\users\\joao madruga\\anaconda3\\lib\\site-packages (from pytest) (0.13.1)\n",
      "Requirement already satisfied: py>=1.8.2 in c:\\users\\joao madruga\\anaconda3\\lib\\site-packages (from pytest) (1.9.0)\n",
      "Requirement already satisfied: toml in c:\\users\\joao madruga\\anaconda3\\lib\\site-packages (from pytest) (0.10.1)\n",
      "Requirement already satisfied: atomicwrites>=1.0 in c:\\users\\joao madruga\\anaconda3\\lib\\site-packages (from pytest) (1.4.0)\n",
      "Requirement already satisfied: colorama in c:\\users\\joao madruga\\anaconda3\\lib\\site-packages (from pytest) (0.4.4)\n",
      "Requirement already satisfied: termcolor>=2.1.0 in c:\\users\\joao madruga\\anaconda3\\lib\\site-packages (from pytest-sugar) (2.2.0)\n",
      "Requirement already satisfied: six in c:\\users\\joao madruga\\anaconda3\\lib\\site-packages (from packaging->pytest) (1.15.0)\n",
      "Requirement already satisfied: pyparsing>=2.0.2 in c:\\users\\joao madruga\\anaconda3\\lib\\site-packages (from packaging->pytest) (2.4.7)\n"
     ]
    }
   ],
   "source": [
    "# install dependencies\n",
    "!pip install pytest pytest-sugar"
   ]
  },
  {
   "cell_type": "code",
   "execution_count": 4,
   "metadata": {},
   "outputs": [
    {
     "name": "stdout",
     "output_type": "stream",
     "text": [
      "Overwriting stack.py\n"
     ]
    }
   ],
   "source": [
    "%%file stack.py\n",
    "\n",
    "# To produce the file stack.py, please remove the comment symbol '#' from the beginning of the line below.\n",
    "# Note you need to generate the file linkedlist.py in the Section 3.\n",
    "\n",
    "from linkedList import *\n",
    "\n",
    "class Stack(LinkedList):\n",
    "    \"\"\"\n",
    "    This class represents a stack data structure that inherits from a linked list.\n",
    "    \n",
    "    Methods:\n",
    "    push(data) -- adds a new node to the top of the stack with the given data.\n",
    "    peek() -- returns the data at the top of the stack without removing it.\n",
    "    pop() -- removes and returns the node at the top of the stack.\n",
    "    \"\"\"\n",
    "    \n",
    "    def push(self, data):\n",
    "        \"\"\"\n",
    "        Adds a new node to the top of the stack with the given data.\n",
    "        \n",
    "        Arguments:\n",
    "        data -- the data to be stored in the new node.\n",
    "        \"\"\"\n",
    "        self.append(data)\n",
    "\n",
    "    def peek(self):\n",
    "        \"\"\"\n",
    "        Returns the data at the top of the stack without removing it.\n",
    "        \"\"\"\n",
    "        return self.tail.data\n",
    "\n",
    "    def pop(self):\n",
    "        \"\"\"\n",
    "        Removes and returns the node at the top of the stack.\n",
    "        \n",
    "        Returns:\n",
    "        The data stored in the node at the top of the stack.\n",
    "        \"\"\"\n",
    "        ret = self.tail.data\n",
    "        if self.length == 1:\n",
    "            self.tail = self.head = None\n",
    "        else:\n",
    "            self.tail = self.tail.prev\n",
    "            self.tail.next = None\n",
    "        self.length -= 1\n",
    "        return ret"
   ]
  },
  {
   "cell_type": "code",
   "execution_count": null,
   "metadata": {},
   "outputs": [],
   "source": []
  }
 ],
 "metadata": {
  "kernelspec": {
   "display_name": "Python 3",
   "language": "python",
   "name": "python3"
  },
  "language_info": {
   "codemirror_mode": {
    "name": "ipython",
    "version": 3
   },
   "file_extension": ".py",
   "mimetype": "text/x-python",
   "name": "python",
   "nbconvert_exporter": "python",
   "pygments_lexer": "ipython3",
   "version": "3.8.5"
  }
 },
 "nbformat": 4,
 "nbformat_minor": 4
}
